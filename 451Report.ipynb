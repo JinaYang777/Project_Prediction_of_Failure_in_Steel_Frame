{
 "cells": [
  {
   "cell_type": "markdown",
   "metadata": {
    "toc": true
   },
   "source": [
    "<h1>Table of Contents<span class=\"tocSkip\"></span></h1>\n",
    "<div class=\"toc\"><ul class=\"toc-item\"><li><span><a href=\"#\" data-toc-modified-id=\"-1\"><span class=\"toc-item-num\">1&nbsp;&nbsp;</span></a></span></li><li><span><a href=\"#Prediction-of-Failure-in-Steel-Frames\" data-toc-modified-id=\"Prediction-of-Failure-in-Steel-Frames-2\"><span class=\"toc-item-num\">2&nbsp;&nbsp;</span><center>Prediction of Failure in Steel Frames</center></a></span><ul class=\"toc-item\"><li><ul class=\"toc-item\"><li><ul class=\"toc-item\"><li><span><a href=\"#Jina-Yang:-jyang633@wisc.edu\" data-toc-modified-id=\"Jina-Yang:-jyang633@wisc.edu-2.0.0.1\"><span class=\"toc-item-num\">2.0.0.1&nbsp;&nbsp;</span>Jina Yang: jyang633@wisc.edu</a></span></li><li><span><a href=\"#Erika-Yeonseo-Park:-ypark258@wisc.edu\" data-toc-modified-id=\"Erika-Yeonseo-Park:-ypark258@wisc.edu-2.0.0.2\"><span class=\"toc-item-num\">2.0.0.2&nbsp;&nbsp;</span>Erika Yeonseo Park: ypark258@wisc.edu</a></span></li><li><span><a href=\"#Hyeyoung-Koh:-hyeyoung.koh@wisc.edu\" data-toc-modified-id=\"Hyeyoung-Koh:-hyeyoung.koh@wisc.edu-2.0.0.3\"><span class=\"toc-item-num\">2.0.0.3&nbsp;&nbsp;</span>Hyeyoung Koh: hyeyoung.koh@wisc.edu</a></span></li></ul></li></ul></li><li><span><a href=\"#1.-Preprocessing\" data-toc-modified-id=\"1.-Preprocessing-2.1\"><span class=\"toc-item-num\">2.1&nbsp;&nbsp;</span>1. Preprocessing</a></span><ul class=\"toc-item\"><li><span><a href=\"#1.1.-Load-Dataset--&amp;--Data-Scaling\" data-toc-modified-id=\"1.1.-Load-Dataset--&amp;--Data-Scaling-2.1.1\"><span class=\"toc-item-num\">2.1.1&nbsp;&nbsp;</span>1.1. Load Dataset  &amp;  Data Scaling</a></span></li><li><span><a href=\"#1.2.-Plot-Dataset\" data-toc-modified-id=\"1.2.-Plot-Dataset-2.1.2\"><span class=\"toc-item-num\">2.1.2&nbsp;&nbsp;</span>1.2. Plot Dataset</a></span></li><li><span><a href=\"#1.3.-Splitting-Dataset\" data-toc-modified-id=\"1.3.-Splitting-Dataset-2.1.3\"><span class=\"toc-item-num\">2.1.3&nbsp;&nbsp;</span>1.3. Splitting Dataset</a></span></li><li><span><a href=\"#1.4.-Dimensionality-Reduction\" data-toc-modified-id=\"1.4.-Dimensionality-Reduction-2.1.4\"><span class=\"toc-item-num\">2.1.4&nbsp;&nbsp;</span>1.4. Dimensionality Reduction</a></span><ul class=\"toc-item\"><li><span><a href=\"#Principal-Component-Analysis-(PCA)\" data-toc-modified-id=\"Principal-Component-Analysis-(PCA)-2.1.4.1\"><span class=\"toc-item-num\">2.1.4.1&nbsp;&nbsp;</span>Principal Component Analysis (PCA)</a></span></li><li><span><a href=\"#Feature-Selection\" data-toc-modified-id=\"Feature-Selection-2.1.4.2\"><span class=\"toc-item-num\">2.1.4.2&nbsp;&nbsp;</span>Feature Selection</a></span></li></ul></li></ul></li><li><span><a href=\"#2.-Model-Selection\" data-toc-modified-id=\"2.-Model-Selection-2.2\"><span class=\"toc-item-num\">2.2&nbsp;&nbsp;</span>2. Model Selection</a></span></li><li><span><a href=\"#3.-Algorithm-Selection\" data-toc-modified-id=\"3.-Algorithm-Selection-2.3\"><span class=\"toc-item-num\">2.3&nbsp;&nbsp;</span>3. Algorithm Selection</a></span></li><li><span><a href=\"#4.-Evaluation\" data-toc-modified-id=\"4.-Evaluation-2.4\"><span class=\"toc-item-num\">2.4&nbsp;&nbsp;</span>4. Evaluation</a></span></li><li><span><a href=\"#5.-Experiments\" data-toc-modified-id=\"5.-Experiments-2.5\"><span class=\"toc-item-num\">2.5&nbsp;&nbsp;</span>5. Experiments</a></span><ul class=\"toc-item\"><li><span><a href=\"#5.1.Experiments-with-the-Three-Models\" data-toc-modified-id=\"5.1.Experiments-with-the-Three-Models-2.5.1\"><span class=\"toc-item-num\">2.5.1&nbsp;&nbsp;</span>5.1.Experiments with the Three Models</a></span><ul class=\"toc-item\"><li><span><a href=\"#5.1.1.-$k$NN\" data-toc-modified-id=\"5.1.1.-$k$NN-2.5.1.1\"><span class=\"toc-item-num\">2.5.1.1&nbsp;&nbsp;</span>5.1.1. $k$NN</a></span></li><li><span><a href=\"#Decision-Tree\" data-toc-modified-id=\"Decision-Tree-2.5.1.2\"><span class=\"toc-item-num\">2.5.1.2&nbsp;&nbsp;</span>Decision Tree</a></span></li><li><span><a href=\"#Random-Forests\" data-toc-modified-id=\"Random-Forests-2.5.1.3\"><span class=\"toc-item-num\">2.5.1.3&nbsp;&nbsp;</span>Random Forests</a></span></li></ul></li><li><span><a href=\"#5.2.-Experiments-with-New-Data:-Data_2\" data-toc-modified-id=\"5.2.-Experiments-with-New-Data:-Data_2-2.5.2\"><span class=\"toc-item-num\">2.5.2&nbsp;&nbsp;</span>5.2. Experiments with New Data: Data_2</a></span><ul class=\"toc-item\"><li><span><a href=\"#$k$-NN\" data-toc-modified-id=\"$k$-NN-2.5.2.1\"><span class=\"toc-item-num\">2.5.2.1&nbsp;&nbsp;</span>$k$-NN</a></span></li><li><span><a href=\"#Decision-Tree\" data-toc-modified-id=\"Decision-Tree-2.5.2.2\"><span class=\"toc-item-num\">2.5.2.2&nbsp;&nbsp;</span>Decision Tree</a></span></li><li><span><a href=\"#Random-Forests\" data-toc-modified-id=\"Random-Forests-2.5.2.3\"><span class=\"toc-item-num\">2.5.2.3&nbsp;&nbsp;</span>Random Forests</a></span></li></ul></li></ul></li></ul></li></ul></div>"
   ]
  },
  {
   "cell_type": "markdown",
   "metadata": {
    "cell_id": "00000-bf97aac3-ea1d-4d35-a8b5-bb8b441a5f0c",
    "deepnote_cell_type": "markdown",
    "output_cleared": false,
    "tags": []
   },
   "source": [
    "# <h1><center>Prediction of Failure in Steel Frames</center></h1>"
   ]
  },
  {
   "cell_type": "markdown",
   "metadata": {
    "cell_id": "00001-a5f9fd22-251c-4f09-a7b4-2f3f6afcea78",
    "deepnote_cell_type": "markdown",
    "output_cleared": false
   },
   "source": [
    "<h4 align=\"center\">Jina Yang: jyang633@wisc.edu</h4> \n",
    "<h4 align=\"center\">Erika Yeonseo Park: ypark258@wisc.edu</h4> \n",
    "<h4 align=\"center\">Hyeyoung Koh: hyeyoung.koh@wisc.edu</h4> \n",
    "\n"
   ]
  },
  {
   "cell_type": "markdown",
   "metadata": {
    "cell_id": "00003-5cb95a76-077d-4452-b02d-babceb1e3fb2",
    "deepnote_cell_type": "markdown",
    "output_cleared": false,
    "tags": []
   },
   "source": [
    "## 1. Preprocessing "
   ]
  },
  {
   "cell_type": "markdown",
   "metadata": {
    "cell_id": "00004-d8de64ca-40fb-448a-838b-b8f3ccd7cb7e",
    "deepnote_cell_type": "markdown",
    "output_cleared": false,
    "tags": []
   },
   "source": [
    "### 1.1. Load Dataset  &  Data Scaling "
   ]
  },
  {
   "cell_type": "code",
   "execution_count": 1,
   "metadata": {
    "cell_id": "00005-d3760e55-0212-4920-bc3a-9945c19f170a",
    "deepnote_cell_type": "code",
    "execution_millis": 923,
    "execution_start": 1607511865528,
    "output_cleared": false,
    "source_hash": "8643e34d"
   },
   "outputs": [],
   "source": [
    "import pandas as pd\n",
    "import numpy as np\n",
    "import matplotlib.pyplot as plt\n",
    "from sklearn.model_selection import train_test_split\n",
    "\n",
    "from sklearn.preprocessing import StandardScaler\n",
    "from sklearn.decomposition import PCA \n",
    "from mlxtend.evaluate import PredefinedHoldoutSplit\n",
    "from mlxtend.feature_selection import SequentialFeatureSelector as SFS\n",
    "\n",
    "from sklearn.neighbors import KNeighborsClassifier\n",
    "from sklearn.tree import DecisionTreeClassifier\n",
    "from sklearn.ensemble import RandomForestClassifier\n",
    "from sklearn.neighbors import KNeighborsClassifier\n",
    "\n",
    "\n",
    "from sklearn.metrics import accuracy_score\n",
    "from sklearn.model_selection import GridSearchCV\n",
    "from sklearn.model_selection import StratifiedKFold\n",
    "from sklearn.model_selection import cross_val_score\n",
    "from mlxtend.evaluate import bootstrap_point632_score\n",
    "\n",
    "from sklearn.pipeline import Pipeline\n",
    "\n",
    "from sklearn.neighbors import KDTree\n"
   ]
  },
  {
   "cell_type": "code",
   "execution_count": 2,
   "metadata": {
    "cell_id": "00006-21e34436-3a82-42a9-b302-5f4ca60cda8d",
    "deepnote_cell_type": "code",
    "execution_millis": 108,
    "execution_start": 1607511866458,
    "output_cleared": false,
    "source_hash": "bb91e727",
    "tags": []
   },
   "outputs": [],
   "source": [
    "# assigning names to feature variable and class label for each dataset\n",
    "raw_data_1 = pd.read_csv('data/raw_dataset_1.csv') # frame 1 \n",
    "raw_data_2 = pd.read_csv('data/raw_dataset_2.csv') # frame 2\n",
    "\n",
    "#creating lists for column names\n",
    "raw_data_1.columns = ['Dead load (kN/m)', 'Live load (kN/m)', 'Yield strength (MPa)', 'Elastic modulus (MPa)', 'Sway imperfection', 'Residual stress', 'Lambda', 'Class']\n",
    "raw_data_2.columns = ['Dead load (kN/m)', 'Live load (kN/m)', 'Yield strength (MPa)', 'Elastic modulus (MPa)', 'Sway imperfection', 'Residual stress', 'Lambda', 'Class']\n",
    "\n",
    "#nominal values\n",
    "D_1 = 31.0722; L_1 = 46.6083;D_2 = 30.4028;L_2 = 45.6042; Fy = 248;E = 200000;oop = 1/700;rs = 1.064;\n",
    "\n",
    "#normalized data\n",
    "data_1 = raw_data_1.div([D_1, L_1, Fy, E, oop, rs, 1, 1])\n",
    "data_2 = raw_data_2.div([D_2, L_2, Fy, E, oop, rs, 1, 1])"
   ]
  },
  {
   "cell_type": "markdown",
   "metadata": {
    "cell_id": "00007-ffe36194-7e26-4e28-aed5-0783823a8fc8",
    "deepnote_cell_type": "markdown",
    "output_cleared": false,
    "tags": []
   },
   "source": [
    "### 1.2. Plot Dataset "
   ]
  },
  {
   "cell_type": "code",
   "execution_count": 3,
   "metadata": {
    "cell_id": "00008-abebdd35-811d-4f73-b25f-7d80d383c230",
    "deepnote_cell_type": "code",
    "execution_millis": 2484,
    "execution_start": 1607511866608,
    "output_cleared": false,
    "source_hash": "3b1212f7",
    "tags": []
   },
   "outputs": [
    {
     "data": {
      "image/png": "[encoded data removed]",
      "text/plain": [
       "<Figure size 432x432 with 8 Axes>"
      ]
     },
     "metadata": {
      "needs_background": "light"
     },
     "output_type": "display_data"
    }
   ],
   "source": [
    "import matplotlib.pyplot as plt\n",
    "from scipy import stats\n",
    "\n",
    "fig, axs = plt.subplots(4,2, figsize=(6,6))\n",
    "plt.subplots_adjust(bottom=0.1, right=0.9, left = 0.1, top=0.9, hspace=0.95, wspace=0.2)\n",
    "\n",
    "plt.tight_layout()\n",
    "\n",
    "# histogram of Dead load of Frame 1\n",
    "X0 = data_1.iloc[:,0];\n",
    "mu, sigma = stats.norm.fit(X0)\n",
    "x = np.linspace(mu - 5*sigma, mu + 5*sigma, len(X0))\n",
    "\n",
    "axs[0,0].hist(X0, bins=20, ec='black', density=True, color=\"white\");\n",
    "axs[0,0].plot(x, stats.norm.pdf(x,mu,sigma), color=\"red\")\n",
    "axs[0,0].set_xlabel('Dead load of Frame 1')\n",
    "axs[0,0].set_ylabel('PDF');\n",
    "\n",
    "# histogram of Live load of Frame 1\n",
    "X1 = data_1.iloc[:,1];\n",
    "loc, scale = stats.gumbel_l.fit(X1)\n",
    "x = np.linspace(0, 2, len(X1))\n",
    "pdf = stats.gumbel_l.pdf(x,loc,scale)\n",
    "\n",
    "axs[0,1].hist(X1, bins=20, ec='black', density=True, color=\"white\");\n",
    "axs[0,1].plot(x, pdf, color=\"red\")\n",
    "axs[0,1].set_xlabel('Live load of Frame 1');\n",
    "axs[0,1].set_ylabel('PDF');\n",
    "\n",
    "# histogram of Dead load of Frame 2\n",
    "X0 = data_2.iloc[:,0];\n",
    "mu, sigma = stats.norm.fit(X0)\n",
    "x = np.linspace(mu - 5*sigma, mu + 5*sigma, len(X0))\n",
    "\n",
    "axs[1,0].hist(X0, bins=20, ec='black', density=True, color=\"white\");\n",
    "axs[1,0].plot(x, stats.norm.pdf(x,mu,sigma), color=\"red\")\n",
    "axs[1,0].set_xlabel('Dead load of Frame 2')\n",
    "axs[1,0].set_ylabel('PDF');\n",
    "\n",
    "# histogram of Live load of Frame 2\n",
    "X1 = data_2.iloc[:,1];\n",
    "loc, scale = stats.gumbel_l.fit(X1)\n",
    "x = np.linspace(0, 2, len(X1))\n",
    "pdf = stats.gumbel_l.pdf(x,loc,scale)\n",
    "\n",
    "axs[1,1].hist(X1, bins=20, ec='black', density=True, color=\"white\");\n",
    "axs[1,1].plot(x, pdf, color=\"red\")\n",
    "axs[1,1].set_xlabel('Live load of Frame 2');\n",
    "axs[1,1].set_ylabel('PDF');\n",
    "\n",
    "# histogram of Fy\n",
    "X2 = data_1.iloc[:,2];\n",
    "shape, loc, scale = stats.lognorm.fit(X2, floc=0)\n",
    "x = np.linspace(0.5, 1.5, len(X2))\n",
    "pdf = stats.lognorm.pdf(x,shape,loc,scale)\n",
    "\n",
    "axs[2,0].hist(X2, bins=20, ec='black', density=True, color=\"white\");\n",
    "axs[2,0].plot(x, pdf, color=\"red\")\n",
    "axs[2,0].set_xlabel('Yield strength');\n",
    "axs[2,0].set_ylabel('PDF');\n",
    "\n",
    "# histogram of E\n",
    "X3 = data_1.iloc[:,3];\n",
    "shape, loc, scale = stats.lognorm.fit(X3, floc=0)\n",
    "x = np.linspace(0.5,1.5, len(X3))\n",
    "pdf = stats.lognorm.pdf(x,shape,loc,scale)\n",
    "\n",
    "axs[2,1].hist(X3, bins=10, ec='black', density=True, color=\"white\");\n",
    "axs[2,1].plot(x, pdf, color=\"red\")\n",
    "axs[2,1].set_xlabel('Elastic modulus');\n",
    "axs[2,1].set_ylabel('PDF');\n",
    "\n",
    "# histogram of sway imperfection\n",
    "X4 = data_1.iloc[:,4];\n",
    "shape, loc, scale = stats.lognorm.fit(X4, floc=0)\n",
    "x = np.linspace(0.,10, len(X4))\n",
    "pdf = stats.lognorm.pdf(x,shape,loc,scale)\n",
    "\n",
    "axs[3,0].hist(X4, bins=40, ec='black', density=True, color=\"white\");\n",
    "axs[3,0].plot(x, pdf, color=\"red\")\n",
    "axs[3,0].set_xlabel('Sway imperfection');\n",
    "axs[3,0].set_ylabel('PDF');\n",
    "\n",
    "# histogram of residual stress\n",
    "X5 = data_1.iloc[:,5];\n",
    "mu, sigma = stats.norm.fit(X5)\n",
    "x = np.linspace(mu - 5*sigma, mu + 5*sigma, len(X5))\n",
    "\n",
    "axs[3,1].hist(X5, bins=20, ec='black', density=True, color=\"white\");\n",
    "axs[3,1].plot(x, stats.norm.pdf(x,mu,sigma), color=\"red\")\n",
    "axs[3,1].set_xlabel('Residual stress');\n",
    "axs[3,1].set_ylabel('PDF');\n",
    "plt.rcParams.update({'font.size': 12})\n",
    "plt.savefig('rv.png', dpi=600)"
   ]
  },
  {
   "cell_type": "code",
   "execution_count": 4,
   "metadata": {
    "cell_id": "00009-cce9628b-c6b6-4de2-9ae1-d25960d4daaf",
    "deepnote_cell_type": "code",
    "execution_millis": 1307,
    "execution_start": 1607511869107,
    "output_cleared": false,
    "source_hash": "54c32c46",
    "tags": []
   },
   "outputs": [
    {
     "data": {
      "image/png": "[encoded data removed]",
      "text/plain": [
       "<Figure size 432x432 with 2 Axes>"
      ]
     },
     "metadata": {
      "needs_background": "light"
     },
     "output_type": "display_data"
    }
   ],
   "source": [
    "fig, axs = plt.subplots(2,1, figsize=(6,6))\n",
    "plt.subplots_adjust(bottom=0.1, right=0.8, top=0.7, hspace=0.5)\n",
    "# plt.tight_layout()\n",
    "\n",
    "# histogram of lambda of Frame 1\n",
    "X6 = data_1.iloc[:,6];\n",
    "loc, scale = stats.gumbel_r.fit(X6)\n",
    "x = np.linspace(0,3, len(X6))\n",
    "pdf = stats.gumbel_r.pdf(x,loc,scale)\n",
    "\n",
    "axs[0].hist(X6, bins=30, ec='black', density=True, color = \"white\");\n",
    "axs[0].plot(x, pdf, color=\"red\")\n",
    "axs[0].set_xlabel('$\\lambda$ of Frame 1');\n",
    "axs[0].set_ylabel('PDF');\n",
    "\n",
    "# histogram of lambda of Frame 2\n",
    "X7 = data_2.iloc[:,6];\n",
    "loc, scale = stats.gumbel_r.fit(X7)\n",
    "x = np.linspace(0,3, len(X7))\n",
    "pdf = stats.gumbel_r.pdf(x,loc,scale)\n",
    "\n",
    "axs[1].hist(X7, bins=30, ec='black', density=True, color=\"white\");\n",
    "axs[1].plot(x, pdf, color=\"red\")\n",
    "axs[1].set_xlabel('$\\lambda$ of Frame 2');\n",
    "axs[1].set_ylabel('PDF');\n",
    "plt.rcParams.update({'font.size': 12})\n",
    "plt.savefig('lam.png', dpi=600)"
   ]
  },
  {
   "cell_type": "markdown",
   "metadata": {
    "cell_id": "00010-010073a4-4935-4a95-a0f7-b4e419e73c9e",
    "deepnote_cell_type": "markdown",
    "output_cleared": false,
    "tags": []
   },
   "source": [
    "### 1.3. Splitting Dataset "
   ]
  },
  {
   "cell_type": "code",
   "execution_count": 5,
   "metadata": {
    "cell_id": "00011-1a81f3fa-5d55-4213-87db-c616f2c671b8",
    "deepnote_cell_type": "code",
    "execution_millis": 23,
    "execution_start": 1607511870421,
    "output_cleared": false,
    "source_hash": "3eb19795",
    "tags": []
   },
   "outputs": [
    {
     "name": "stdout",
     "output_type": "stream",
     "text": [
      "Train/Test sizes: (37081, 6) (12361,)\n"
     ]
    }
   ],
   "source": [
    "#Separating the features and class label\n",
    "\n",
    "features = ['Dead load (kN/m)', 'Live load (kN/m)', 'Yield strength (MPa)', 'Elastic modulus (MPa)', 'Sway imperfection', 'Residual stress']\n",
    "X = data_1[features].values \n",
    "y = data_1[['Class']].values\n",
    "y = y.ravel()\n",
    "\n",
    "#Spliting data 1 into training(75%) and test set (25%)\n",
    "X_train, X_test, y_train, y_test = train_test_split(X, y, \n",
    "                                                test_size=0.25,\n",
    "                                                    random_state=123,\n",
    "                                                    shuffle=True,\n",
    "                                                    stratify=y)\n",
    "\n",
    "print('Train/Test sizes:', X_train.shape, y_test.shape)"
   ]
  },
  {
   "cell_type": "markdown",
   "metadata": {
    "cell_id": "00012-cbc42eec-0cec-41cc-b012-54adcbaf059f",
    "deepnote_cell_type": "markdown",
    "output_cleared": false,
    "tags": []
   },
   "source": [
    "### 1.4. Dimensionality Reduction"
   ]
  },
  {
   "cell_type": "markdown",
   "metadata": {
    "cell_id": "00013-158c6889-0ef6-4e1d-a26b-f8bdc81c869e",
    "deepnote_cell_type": "markdown",
    "output_cleared": false,
    "tags": []
   },
   "source": [
    "#### Principal Component Analysis (PCA)\n",
    "Before the hyperparameter tuning and model se- lection, standardization and feature selection are employed to be used for k-Nearest Neighbor algorithm."
   ]
  },
  {
   "cell_type": "code",
   "execution_count": 6,
   "metadata": {
    "cell_id": "00015-b6935941-8255-40af-8023-3f1d09dec1f5",
    "deepnote_cell_type": "code",
    "execution_millis": 16,
    "execution_start": 1607511870447,
    "output_cleared": false,
    "source_hash": "d48cea89",
    "tags": []
   },
   "outputs": [],
   "source": [
    "#scailing \n",
    "scaler = StandardScaler()\n",
    "X_train_scaled = scaler.fit(X_train).transform(X_train)\n",
    "X_test_scaled = scaler.fit(X_test).transform(X_test)\n",
    "X_scaled = scaler.fit(X).transform(X)"
   ]
  },
  {
   "cell_type": "code",
   "execution_count": 7,
   "metadata": {
    "cell_id": "00016-be405198-b645-48bb-9502-fc484cb34546",
    "deepnote_cell_type": "code",
    "execution_millis": 587,
    "execution_start": 1607511870471,
    "output_cleared": false,
    "source_hash": "4a191352",
    "tags": []
   },
   "outputs": [
    {
     "data": {
      "image/png": "[encoded data removed]",
      "text/plain": [
       "<Figure size 432x288 with 1 Axes>"
      ]
     },
     "metadata": {
      "needs_background": "light"
     },
     "output_type": "display_data"
    },
    {
     "name": "stdout",
     "output_type": "stream",
     "text": [
      "[56.8 21.4 16.5  3.5  1.8  0. ]\n"
     ]
    },
    {
     "data": {
      "text/plain": [
       "<Figure size 432x288 with 0 Axes>"
      ]
     },
     "metadata": {},
     "output_type": "display_data"
    }
   ],
   "source": [
    "data = X \n",
    "\n",
    "scaled = StandardScaler().fit_transform(data.T) \n",
    "\n",
    "pca = PCA() \n",
    "pca.fit(scaled) \n",
    "pca_data = pca.transform(scaled) #generating coordinates for a PCA graph based on the loading scores and the scaled data \n",
    "\n",
    "#Calculating the percentage of variation that each principal component accounts for \n",
    "per_var = np.round(pca.explained_variance_ratio_*100, decimals=1)\n",
    "labels = ['PC'+ str(x) for x in range(1, len(per_var) +1)]\n",
    "\n",
    "plt.rcParams.update({'font.size': 12})\n",
    "plt.bar(x=range(1, len(per_var) +1), height=per_var, tick_label=labels, color = 'white', ec= 'black')\n",
    "plt.ylabel('Percentage of Explained Variance')\n",
    "plt.xlabel('Principal Component')\n",
    "plt.title('Plot with data_1')\n",
    "plt.show() \n",
    "plt.savefig('pca_var.png', dpi=600)\n",
    "\n",
    "print(per_var)"
   ]
  },
  {
   "cell_type": "code",
   "execution_count": 8,
   "metadata": {
    "cell_id": "00020-c5396aea-81a9-451b-8c3b-cedd3649b8f7",
    "deepnote_cell_type": "code",
    "execution_millis": 227,
    "execution_start": 1607511871065,
    "output_cleared": false,
    "source_hash": "23faa9ce",
    "tags": []
   },
   "outputs": [
    {
     "name": "stdout",
     "output_type": "stream",
     "text": [
      "Explained Variance: [0.82077439 0.09180767 0.06609835]\n",
      "[[ 6.40759941e-04  2.20835744e-03 -1.29931666e-04 -7.98137912e-05\n",
      "   9.99996934e-01  9.06653569e-04]\n",
      " [ 1.95473927e-03  3.86740052e-03  1.97224781e-03  1.58182714e-03\n",
      "  -9.16055199e-04  9.99986995e-01]\n",
      " [-2.21482791e-03 -9.99982631e-01  2.51130696e-03  1.92687831e-03\n",
      "   2.20672023e-03  3.86573360e-03]]\n"
     ]
    }
   ],
   "source": [
    "pca = PCA(n_components=3)\n",
    "fit = pca.fit(X_train)\n",
    "print(\"Explained Variance: %s\" % fit.explained_variance_ratio_)\n",
    "print(fit.components_)\n",
    "# Values with higher variance portrays the dataset better."
   ]
  },
  {
   "cell_type": "markdown",
   "metadata": {
    "cell_id": "00021-9130a4b6-ccbb-4050-97c6-0d2a903f2110",
    "deepnote_cell_type": "markdown",
    "output_cleared": false,
    "tags": []
   },
   "source": [
    "#### Feature Selection\n",
    "Based on the number of important features that are checked through PCA, the best features among the six features are selected by the use of simple sequential forward selec- tion."
   ]
  },
  {
   "cell_type": "code",
   "execution_count": 9,
   "metadata": {
    "cell_id": "00023-f7c77233-865e-4942-b731-cc1fa86aa537",
    "deepnote_cell_type": "code",
    "execution_millis": 19212,
    "execution_start": 1607511871294,
    "output_cleared": false,
    "source_hash": "862ecac8",
    "tags": []
   },
   "outputs": [
    {
     "name": "stderr",
     "output_type": "stream",
     "text": [
      "[Parallel(n_jobs=1)]: Using backend SequentialBackend with 1 concurrent workers.\n",
      "[Parallel(n_jobs=1)]: Done   1 out of   1 | elapsed:    1.7s remaining:    0.0s\n",
      "[Parallel(n_jobs=1)]: Done   6 out of   6 | elapsed:   10.5s finished\n",
      "\n",
      "[2021-12-20 18:26:48] Features: 1/3 -- score: 0.9223736903846932[Parallel(n_jobs=1)]: Using backend SequentialBackend with 1 concurrent workers.\n",
      "[Parallel(n_jobs=1)]: Done   1 out of   1 | elapsed:    1.7s remaining:    0.0s\n",
      "[Parallel(n_jobs=1)]: Done   5 out of   5 | elapsed:    8.6s finished\n",
      "\n",
      "[2021-12-20 18:26:57] Features: 2/3 -- score: 0.9409004490109624[Parallel(n_jobs=1)]: Using backend SequentialBackend with 1 concurrent workers.\n",
      "[Parallel(n_jobs=1)]: Done   1 out of   1 | elapsed:    2.1s remaining:    0.0s\n",
      "[Parallel(n_jobs=1)]: Done   4 out of   4 | elapsed:    7.8s finished\n",
      "\n",
      "[2021-12-20 18:27:05] Features: 3/3 -- score: 0.952510011730917"
     ]
    },
    {
     "data": {
      "text/plain": [
       "{1: {'feature_idx': (1,),\n",
       "  'cv_scores': array([0.92237369]),\n",
       "  'avg_score': 0.9223736903846932,\n",
       "  'feature_names': ('1',)},\n",
       " 2: {'feature_idx': (1, 5),\n",
       "  'cv_scores': array([0.94090045]),\n",
       "  'avg_score': 0.9409004490109624,\n",
       "  'feature_names': ('1', '5')},\n",
       " 3: {'feature_idx': (0, 1, 5),\n",
       "  'cv_scores': array([0.95251001]),\n",
       "  'avg_score': 0.952510011730917,\n",
       "  'feature_names': ('0', '1', '5')}}"
      ]
     },
     "execution_count": 9,
     "metadata": {},
     "output_type": "execute_result"
    }
   ],
   "source": [
    "knn = KNeighborsClassifier(n_neighbors=3)\n",
    "\n",
    "#simple sequential forward selection \n",
    "sfs1 = SFS(knn, \n",
    "           k_features=3, \n",
    "           forward=True, \n",
    "           floating=False, \n",
    "           verbose=2,\n",
    "           scoring='accuracy',\n",
    "           cv=0)\n",
    "\n",
    "sfs1 = sfs1.fit(X, y)\n",
    "sfs1.subsets_\n",
    "# Checking index [0,1,5] has the highest sequential feature selection score "
   ]
  },
  {
   "cell_type": "code",
   "execution_count": 10,
   "metadata": {
    "cell_id": "00024-52d7d1ed-460c-479b-8c77-803021e9909e",
    "deepnote_cell_type": "code",
    "execution_millis": 4,
    "execution_start": 1607511890509,
    "output_cleared": false,
    "source_hash": "4318e360",
    "tags": []
   },
   "outputs": [
    {
     "name": "stdout",
     "output_type": "stream",
     "text": [
      "['Dead load (kN/m)' 'Live load (kN/m)' 'Residual stress']\n"
     ]
    }
   ],
   "source": [
    "# Checking the name of the features that will be used for k-NN. \n",
    "ary = np.array(features)\n",
    "idx = [0,1,5]\n",
    "print(ary[idx])\n",
    "\n",
    "# Assigning new names for training & test set with chosen features on the scaled data \n",
    "X_train_1 = X_train_scaled[:, [0,1,5]]\n",
    "X_test_1 = X_test_scaled[:, [0,1,5]]"
   ]
  },
  {
   "cell_type": "markdown",
   "metadata": {
    "cell_id": "00026-c284cb70-2fe4-4e16-a23e-00725f0ba32e",
    "deepnote_cell_type": "markdown",
    "output_cleared": false,
    "tags": []
   },
   "source": [
    "## 2. Model Selection "
   ]
  },
  {
   "cell_type": "code",
   "execution_count": 11,
   "metadata": {
    "cell_id": "00027-679edaba-af8a-4668-9d89-2ebabf52d7f6",
    "deepnote_cell_type": "code",
    "execution_millis": 6,
    "execution_start": 1607511890517,
    "output_cleared": false,
    "source_hash": "5b513bf2"
   },
   "outputs": [],
   "source": [
    "# Initializing Classifiers\n",
    "clf1 = KNeighborsClassifier()   \n",
    "clf2 = DecisionTreeClassifier(random_state=123) # don't need to scale the parameters\n",
    "clf3 = RandomForestClassifier(random_state=123, n_estimators = 1000) #don't need to scale the parmeters \n",
    "\n",
    "# Setting up the parameter grids\n",
    "#kNN \n",
    "param_grid1 = [{'n_neighbors': list(range(3,15)),\n",
    "               'p': [1, 2], #1: Manhattan, 2: euclidean \n",
    "               'algorithm':['auto', 'kd_tree', 'ball_tree']}]\n",
    "#Decision Tree \n",
    "param_grid2 = [{'max_depth': list(range(1, 20)) + [None],  \n",
    "                'criterion': ['gini', 'entropy'],\n",
    "                'min_samples_split': [2, 3, 4]}]\n",
    "#Random Forest \n",
    "param_grid3 = [{'max_depth': [1, 3, 11, 13, None],\n",
    "               'min_samples_split': [2, 3]}] "
   ]
  },
  {
   "cell_type": "code",
   "execution_count": 12,
   "metadata": {
    "cell_id": "00029-db225abe-5f82-4c41-a450-ffcdda2c15b8",
    "deepnote_cell_type": "code",
    "execution_millis": 6,
    "execution_start": 1607511890525,
    "output_cleared": false,
    "source_hash": "c677f84c"
   },
   "outputs": [],
   "source": [
    "#Innner loop\n",
    "gridcvs = {}\n",
    "inner_cv = StratifiedKFold(n_splits=2, shuffle=True, random_state=123) #2 inner fold (5 outter fold)\n",
    "\n",
    "for pgrid, est, name  in zip((param_grid1, param_grid2, param_grid3), #parameter gird\n",
    "                            (clf1, clf2, clf3),  #classifier\n",
    "                            ('KNN', 'DecisionTree','RandomForest')): #its name\n",
    "    \n",
    "    gcv = GridSearchCV(estimator=est,   \n",
    "                       param_grid=pgrid,\n",
    "                       scoring='accuracy',\n",
    "                       n_jobs=None,\n",
    "                       cv=inner_cv,  \n",
    "                       verbose=0,\n",
    "                       refit=True)\n",
    "    gridcvs[name] = gcv   "
   ]
  },
  {
   "cell_type": "code",
   "execution_count": null,
   "metadata": {
    "cell_id": "00031-429fecad-f968-433d-8d1f-3363e62649b0",
    "deepnote_cell_type": "code",
    "execution_millis": 2401282,
    "execution_start": 1607511890539,
    "output_cleared": false,
    "source_hash": "8cba6e10"
   },
   "outputs": [
    {
     "name": "stdout",
     "output_type": "stream",
     "text": [
      "-------------------------------------------------- \n",
      "\n",
      "Algorithm: KNN\n",
      "    Inner loop:\n",
      "\n",
      "        Best ACC (avg. of inner test folds) 92.78%\n",
      "        Best parameters: {'algorithm': 'auto', 'n_neighbors': 11, 'p': 1}\n",
      "        ACC (on outer test fold) 93.07%\n"
     ]
    }
   ],
   "source": [
    "#Outer loop\n",
    "for (name, gs_est), X_train in zip((gridcvs.items()),(X_train_1, X_train, X_train)):\n",
    "\n",
    "    print(50 * '-', '\\n')\n",
    "    print('Algorithm:', name)\n",
    "    print('    Inner loop:')\n",
    "    \n",
    "    outer_scores = [] #collect the score for test fold.\n",
    "    outer_cv = StratifiedKFold(n_splits=5, shuffle=True, random_state=123) # 5 outer loop \n",
    "    for train_idx, valid_idx in outer_cv.split(X_train, y_train):\n",
    "        gridcvs[name].fit(X_train[train_idx], y_train[train_idx]) \n",
    "        print('\\n        Best ACC (avg. of inner test folds) %.2f%%' % (gridcvs[name].best_score_ * 100))\n",
    "        print('        Best parameters:', gridcvs[name].best_params_)\n",
    "        outer_scores.append(gridcvs[name].best_estimator_.score(X_train[valid_idx], y_train[valid_idx]))\n",
    "        print('        ACC (on outer test fold) %.2f%%' % (outer_scores[-1]*100))\n",
    "    print('\\n    Outer Loop:')\n",
    "    print('        ACC %.2f%% +/- %.2f' % \n",
    "              (np.mean(outer_scores) * 100, np.std(outer_scores) * 100))  #avg over the test fold from outer fold\n"
   ]
  },
  {
   "cell_type": "markdown",
   "metadata": {
    "cell_id": "00033-470558f1-d668-4499-a198-ee38544a1e18",
    "deepnote_cell_type": "markdown",
    "output_cleared": false,
    "tags": []
   },
   "source": [
    "The algorithm with the highest average accuracy appears to be **Random Forest**. However, the decision tree performs sufficiently well and the difference between the decision tree and random forest accuracy is not very significant. It is necessary to compare them again."
   ]
  },
  {
   "cell_type": "markdown",
   "metadata": {
    "cell_id": "00034-49ea5b71-07ed-4189-bb8e-80e28737fafd",
    "deepnote_cell_type": "markdown",
    "output_cleared": false
   },
   "source": [
    "## 3. Algorithm Selection"
   ]
  },
  {
   "cell_type": "markdown",
   "metadata": {},
   "source": [
    "10-fold Cross Validation to compare **Decision Tree** and **Random Forest**"
   ]
  },
  {
   "cell_type": "code",
   "execution_count": null,
   "metadata": {
    "cell_id": "00035-1e493952-301c-44de-8792-a609d0cd9277",
    "deepnote_cell_type": "code",
    "execution_millis": 4066705,
    "execution_start": 1607514291823,
    "output_cleared": false,
    "source_hash": "e3280778"
   },
   "outputs": [],
   "source": [
    "for i, clf, param_grid in zip((2,3),(clf2, clf3),(param_grid2, param_grid3)):\n",
    "    gcv_model_select_i = GridSearchCV(estimator=clf,\n",
    "                                    param_grid=param_grid,\n",
    "                                    scoring='accuracy',\n",
    "                                    n_jobs=None,\n",
    "                                    cv=10,\n",
    "                                    verbose=1,\n",
    "                                    refit=True)\n",
    "    gcv_model_select_i.fit(X_train, y_train)\n",
    "    print('Best CV accuracy: %.2f%%' % (gcv_model_select_i.best_score_*100),',   Best parameters:', gcv_model_select_i.best_params_ )"
   ]
  },
  {
   "cell_type": "markdown",
   "metadata": {
    "cell_id": "00038-c0292e4a-8a81-41a4-9c35-702e7ee17dfe",
    "deepnote_cell_type": "markdown",
    "output_cleared": false
   },
   "source": [
    "## 4. Evaluation"
   ]
  },
  {
   "cell_type": "markdown",
   "metadata": {},
   "source": [
    "To evaluate the chosen algorithm and model, bootstrapping is run on training set with the best hyper parameter setting. Then, the model is fitted on the training set and is evaluated on the test set."
   ]
  },
  {
   "cell_type": "code",
   "execution_count": null,
   "metadata": {
    "cell_id": "00040-754a9ae4-8bc3-4e70-a4d6-a49fedfed0e9",
    "deepnote_cell_type": "code",
    "execution_millis": 12533676,
    "execution_start": 1607518358528,
    "output_cleared": false,
    "source_hash": "77f4633a"
   },
   "outputs": [],
   "source": [
    "#0.632 bootstrap method on the training set\n",
    "model = gcv.best_estimator_   \n",
    "bootstrap_scores = bootstrap_point632_score(model, \n",
    "                                            X_train, y_train, \n",
    "                                            n_splits=200,\n",
    "                                            random_seed=123)\n",
    "\n",
    "\n",
    "lower = np.percentile(bootstrap_scores, 2.5)\n",
    "upper = np.percentile(bootstrap_scores, 97.5)\n",
    "\n",
    "print('Score Std', np.std(bootstrap_scores))\n",
    "print('Mean Bootstrap score', np.mean(bootstrap_scores)*100,'%')\n",
    "print('95%% Confidence interval: [%.2f, %.2f]' % (100*lower, 100*upper))"
   ]
  },
  {
   "cell_type": "code",
   "execution_count": null,
   "metadata": {
    "cell_id": "00041-0b67c6ed-f984-4359-bcf9-cc661d4036ef",
    "deepnote_cell_type": "code",
    "execution_millis": 66007,
    "execution_start": 1607530892204,
    "output_cleared": false,
    "source_hash": "c349244e",
    "tags": []
   },
   "outputs": [],
   "source": [
    "#Fit on training & Evaluating on test set \n",
    "model = gcv.best_estimator_   \n",
    "model.fit(X_train, y_train)\n",
    "\n",
    "train_acc = accuracy_score(y_true=y_train, y_pred=model.predict(X_train))\n",
    "test_acc = accuracy_score(y_true=y_test, y_pred=model.predict(X_test))\n",
    "\n",
    "print('Training Accuracy: %.2f%%' % (100 * train_acc))\n",
    "print('Test Accuracy: %.2f%%' % (100 * test_acc))"
   ]
  },
  {
   "cell_type": "code",
   "execution_count": null,
   "metadata": {},
   "outputs": [],
   "source": [
    "# Reconfirmation: Using the whole dataset to evaluate\n",
    "forest = RandomForestClassifier(n_estimators=1000,\n",
    "                                max_depth=None,\n",
    "                                min_samples_split=3,\n",
    "                                random_state=1)\n",
    "forest.fit(X, y)\n",
    "\n",
    "#Fitting it on the whole dataset \n",
    "cv_acc = cross_val_score(estimator= forest,\n",
    "                         X= X,\n",
    "                         y= y,\n",
    "                         cv=StratifiedKFold(n_splits=10, random_state=123, shuffle=True),\n",
    "                         n_jobs=-1)\n",
    "print('Kfold Accuracy: %.2f%%' % (np.mean(cv_acc)*100))"
   ]
  },
  {
   "cell_type": "markdown",
   "metadata": {
    "cell_id": "00044-4147d05e-f46b-4d85-a873-839245b5f829",
    "deepnote_cell_type": "markdown",
    "output_cleared": false,
    "tags": []
   },
   "source": [
    "## 5. Experiments"
   ]
  },
  {
   "cell_type": "markdown",
   "metadata": {
    "cell_id": "00045-29154aaf-ee51-4400-b4fc-2e4b3fc666e9",
    "deepnote_cell_type": "markdown",
    "output_cleared": false,
    "tags": []
   },
   "source": [
    "### 5.1.Experiments with the Three Models"
   ]
  },
  {
   "cell_type": "markdown",
   "metadata": {
    "cell_id": "00046-61fd7604-801d-48bc-9ac1-698bffa9a9d2",
    "deepnote_cell_type": "markdown",
    "output_cleared": false
   },
   "source": [
    "#### 5.1.1. $k$NN \n",
    "Best model for $k$NN with tuned hyperparameters: {'algorithm': 'auto', 'n_neighbors': 15, 'p': 2} from nested cross validation."
   ]
  },
  {
   "cell_type": "code",
   "execution_count": null,
   "metadata": {
    "cell_id": "00047-5004ff71-7ea2-4355-9c73-697b8aaa7e15",
    "deepnote_cell_type": "code",
    "execution_millis": 362,
    "execution_start": 1607530958212,
    "output_cleared": false,
    "source_hash": "c1818e5f",
    "tags": []
   },
   "outputs": [],
   "source": [
    "knn = KNeighborsClassifier(n_neighbors=15,\n",
    "                          algorithm='auto', \n",
    "                          p=2)\n",
    "\n",
    "knn.fit(X_train_1, y_train)\n",
    "\n",
    "print('Test set accuracy: ', knn.score(X_test_1, y_test)*100)   "
   ]
  },
  {
   "cell_type": "code",
   "execution_count": null,
   "metadata": {
    "cell_id": "00049-6e53e03a-39d4-4b93-b036-5d89e4e0a576",
    "deepnote_cell_type": "code",
    "execution_millis": 18960,
    "execution_start": 1607530958579,
    "output_cleared": false,
    "source_hash": "3d16f632"
   },
   "outputs": [],
   "source": [
    "##  Plot \n",
    "training_accuracy = []\n",
    "test_accuracy = []\n",
    "neighbors_settings = range(3,16)\n",
    "\n",
    "for n_neighbors in neighbors_settings:\n",
    "    clf = KNeighborsClassifier(n_neighbors=n_neighbors, algorithm='auto', p=2)\n",
    "    clf.fit(X_train_1, y_train)   \n",
    "    # accuracy of training set\n",
    "    training_accuracy.append(clf.score(X_train_1, y_train))\n",
    "    # accuracy of test set\n",
    "    test_accuracy.append(clf.score(X_test_1, y_test))\n",
    "\n",
    "print(test_accuracy) \n",
    "\n",
    "plt.plot(neighbors_settings, training_accuracy, label=\"train_acc\")\n",
    "plt.plot(neighbors_settings, test_accuracy, label=\"test_acc\")\n",
    "plt.ylabel(\"accuracy\")\n",
    "plt.xlabel(\"n_neighbors\")\n",
    "plt.legend()\n",
    "#plt.savefig('rv.png', dpi=600)"
   ]
  },
  {
   "cell_type": "markdown",
   "metadata": {
    "cell_id": "00051-195fd31f-6457-4edb-99c0-de94282fc4b9",
    "deepnote_cell_type": "markdown",
    "output_cleared": false
   },
   "source": [
    "#### Decision Tree \n",
    "Best hyperparameters found for Decision Tree: {'criterion': 'entropy', 'max_depth': 15, 'min_samples_split': 3} from nested cross validation.\n"
   ]
  },
  {
   "cell_type": "code",
   "execution_count": null,
   "metadata": {
    "cell_id": "00052-4cc8e7d0-ecd9-4ec0-ace9-c39bed611938",
    "deepnote_cell_type": "code",
    "execution_millis": 3481,
    "execution_start": 1607530977548,
    "output_cleared": false,
    "source_hash": "56d4a43f"
   },
   "outputs": [],
   "source": [
    "clf =DecisionTreeClassifier(criterion='entropy', \n",
    "                              max_depth=15, \n",
    "                              min_samples_split=3,\n",
    "                              random_state=123)\n",
    "\n",
    "cv_acc = cross_val_score(estimator= clf,\n",
    "                         X= X,\n",
    "                         y= y,\n",
    "                         cv=StratifiedKFold(n_splits=10, random_state=123, shuffle=True),\n",
    "                         n_jobs=-1)\n",
    "\n",
    "print('Kfold Accuracy: %.2f%%' % (np.mean(cv_acc)*100))"
   ]
  },
  {
   "cell_type": "code",
   "execution_count": null,
   "metadata": {
    "cell_id": "00053-8e6c0e55-0465-4989-8cb1-f2bed48cc40b",
    "deepnote_cell_type": "code",
    "execution_millis": 81257,
    "execution_start": 1607530981035,
    "output_cleared": false,
    "source_hash": "3218ca37"
   },
   "outputs": [],
   "source": [
    "from sklearn.tree import export_graphviz\n",
    "import pydotplus\n",
    "from IPython.display import Image\n",
    "from sklearn.tree import DecisionTreeClassifier, export_graphviz\n",
    "import matplotlib.pyplot as plt\n",
    "from sklearn.tree import plot_tree\n",
    "\n",
    "clf =DecisionTreeClassifier(criterion='entropy', max_depth=15, min_samples_split=3,random_state=123)\n",
    "\n",
    "clf.fit(X_train, y_train)\n",
    "plt.figure(figsize=(10, 7))\n",
    "plot_tree(clf, filled=True, rounded=True,class_names=['0','1'],feature_names= features) \n",
    "\n",
    "plt.show()\n",
    "#plt.savefig('6.png', dpi=600)\n",
    "#plt.savefig('DT_data1.pdf')"
   ]
  },
  {
   "cell_type": "code",
   "execution_count": null,
   "metadata": {
    "cell_id": "00054-c22ba300-278d-4a83-9779-d9b687bcf5d3",
    "deepnote_cell_type": "code",
    "execution_millis": 6307,
    "execution_start": 1607531062292,
    "output_cleared": false,
    "source_hash": "ca2c2b97"
   },
   "outputs": [],
   "source": [
    "import matplotlib.pyplot as plt\n",
    "from sklearn.tree import DecisionTreeClassifier\n",
    "from tqdm import tqdm_notebook\n",
    "\n",
    "trainGini = []\n",
    "testGini = []\n",
    "trainEntropy = []\n",
    "testEntropy = []\n",
    "depth_settings = range(1, 16)\n",
    "\n",
    "for k in depth_settings:\n",
    "    #using gini to training dataset\n",
    "    dt = DecisionTreeClassifier(criterion='gini', max_depth=k, min_samples_split=3,\n",
    "    random_state=123)\n",
    "    dt.fit(X_train, y_train)\n",
    "    \n",
    "    # accuracy - Gini\n",
    "    trainGini.append(dt.score(X_train, y_train))\n",
    "    testGini.append(dt.score(X_train, y_train))\n",
    "    \n",
    "    # using entropy\n",
    "    dt = DecisionTreeClassifier(criterion='entropy', max_depth=k,min_samples_split=3,\n",
    "    random_state=123)\n",
    "    dt.fit(X_train, y_train)\n",
    "    \n",
    "    # accuracy - Entropy\n",
    "    trainEntropy.append(dt.score(X_train, y_train))\n",
    "    testEntropy.append(dt.score(X_test, y_test))\n",
    "    \n",
    "plt.plot(trainGini, label='trainGini', alpha=0.5)\n",
    "plt.plot(trainEntropy, label='trainEntropy')\n",
    "plt.plot(testGini, label='testGini', alpha=0.5)\n",
    "plt.plot(testEntropy, label='testEntropy')\n",
    "plt.legend()\n",
    "plt.xlabel('Depth')\n",
    "plt.ylabel('Accuracy')\n",
    "plt.show()\n",
    "#plt.savefig('5.1.2DT_2.pdf')\n",
    "#plt.savefig('gini_entropy.png', dpi=600)"
   ]
  },
  {
   "cell_type": "code",
   "execution_count": null,
   "metadata": {
    "cell_id": "00055-c3cf3091-1472-4112-915f-58334d6f7d95",
    "deepnote_cell_type": "code",
    "execution_millis": 263,
    "execution_start": 1607531068604,
    "output_cleared": false,
    "source_hash": "ccbf1850"
   },
   "outputs": [],
   "source": [
    "#find the number of max_depth with the highest accuracy\n",
    "nDepth = depth_settings[np.argmax(testGini)]\n",
    "dt = DecisionTreeClassifier(max_depth = nDepth,random_state=1)\n",
    "dt.fit(X_train, y_train)\n",
    "print('accuracy of test set = %.4f' % dt.score(X_test,y_test))\n",
    "print('Optimize max_depth = %d' % nDepth)"
   ]
  },
  {
   "cell_type": "markdown",
   "metadata": {
    "cell_id": "00056-74e7bd5f-df45-4e5b-b989-ba0b277653e1",
    "deepnote_cell_type": "markdown",
    "output_cleared": false
   },
   "source": [
    "#### Random Forests \n",
    "Best hyperparameters: {'max_depth': None, 'min_samples_split': 3}\n",
    "This model has already been evaluated in \"4. Evaluation.\" Here, the visualization of 3 trees among 1000 trees is included."
   ]
  },
  {
   "cell_type": "code",
   "execution_count": null,
   "metadata": {
    "cell_id": "00057-43e9f913-a39e-4220-80ee-02ef0858bdae",
    "deepnote_cell_type": "code",
    "execution_millis": 602675,
    "execution_start": 1607531068873,
    "output_cleared": false,
    "source_hash": "5fa39f1e"
   },
   "outputs": [],
   "source": [
    "forest = RandomForestClassifier(n_estimators=1000,\n",
    "                                max_depth=None,\n",
    "                                min_samples_split=3,\n",
    "                                random_state=1)\n",
    "forest.fit(X, y)\n",
    "\n",
    "#Fitting it on the whole dataset \n",
    "cv_acc = cross_val_score(estimator= forest,\n",
    "                         X= X,\n",
    "                         y= y,\n",
    "                         cv=StratifiedKFold(n_splits=10, random_state=123, shuffle=True),\n",
    "                         n_jobs=-1)\n",
    "\n",
    "print('Kfold Accuracy: %.2f%%' % (np.mean(cv_acc)*100))"
   ]
  },
  {
   "cell_type": "markdown",
   "metadata": {
    "cell_id": "00061-0053d0f9-552a-4773-9739-cd52384275a7",
    "deepnote_cell_type": "code",
    "execution_millis": 390799,
    "execution_start": 1607531671549,
    "output_cleared": false,
    "source_hash": "7da4e664",
    "tags": []
   },
   "source": [
    "##### from sklearn import tree\n",
    "from sklearn.tree import plot_tree\n",
    "\n",
    "target = ['0','1']\n",
    "\n",
    "fig, axes = plt.subplots(nrows = 1,ncols = 3,figsize = (10,2), dpi=900)\n",
    "for index in range(0, 3):\n",
    "    tree.plot_tree(forest.estimators_[index],\n",
    "                   feature_names = features, \n",
    "                   class_names= target,\n",
    "                   filled = True,\n",
    "                   ax = axes[index])\n",
    "\n",
    "    axes[index].set_title('Estimator: ' + str(index), fontsize = 11)\n",
    "#fig.savefig('3trees.png')\n",
    "#fig.savefig('3trees.pdf')"
   ]
  },
  {
   "cell_type": "markdown",
   "metadata": {
    "cell_id": "00058-5d3f3846-fa91-4550-9209-ece2d647680f",
    "deepnote_cell_type": "markdown",
    "output_cleared": false,
    "tags": []
   },
   "source": [
    "### 5.2. Experiments with New Data: Data_2\n",
    "\n",
    "The best models chosen with data_1 are applied to data_2 to check if the models perform well on the new dataset.  "
   ]
  },
  {
   "cell_type": "code",
   "execution_count": null,
   "metadata": {
    "cell_id": "00059-36f9bce3-0897-4510-95b5-f57e8a064231",
    "deepnote_cell_type": "code",
    "execution_millis": 1,
    "execution_start": 1607532062384,
    "output_cleared": false,
    "source_hash": "be3ade5f"
   },
   "outputs": [],
   "source": [
    "#splitting data_2 in to train and test set \n",
    "features = ['Dead load (kN/m)', 'Live load (kN/m)', 'Yield strength (MPa)', 'Elastic modulus (MPa)', 'Sway imperfection', 'Residual stress']\n",
    "X_2 = data_2[features].values \n",
    "y_2 = data_2[['Class']].values\n",
    "y_2 = y_2.ravel()\n",
    "\n",
    "X_train_2, X_test_2, y_train_2, y_test_2 = train_test_split(X_2, y_2, \n",
    "                                                test_size=0.25,\n",
    "                                                    random_state=123,\n",
    "                                                    shuffle=True,\n",
    "                                                    stratify=y_2)\n",
    "\n",
    "print('Train/Test sizes:', X_train_2.shape, y_test_2.shape)"
   ]
  },
  {
   "cell_type": "markdown",
   "metadata": {
    "cell_id": "00060-b376aa1c-df4a-41d3-88b7-c68b15b9f044",
    "deepnote_cell_type": "markdown",
    "output_cleared": false,
    "tags": []
   },
   "source": [
    "#### $k$-NN"
   ]
  },
  {
   "cell_type": "code",
   "execution_count": null,
   "metadata": {
    "cell_id": "00061-db1b481d-240f-44e3-b58d-b963d6dc8aee",
    "deepnote_cell_type": "code",
    "execution_millis": 0,
    "execution_start": 1607532062384,
    "output_cleared": false,
    "source_hash": "1b8677da",
    "tags": []
   },
   "outputs": [],
   "source": [
    "#scailing data 2 for k-NN\n",
    "scaler = StandardScaler()\n",
    "X_train_scaled = scaler.fit(X_train_2).transform(X_train_2)\n",
    "X_test_scaled = scaler.fit(X_test_2).transform(X_test_2)\n",
    "X_scaled = scaler.fit(X_2).transform(X_2)"
   ]
  },
  {
   "cell_type": "code",
   "execution_count": null,
   "metadata": {
    "cell_id": "00062-f09372c7-1ea6-4fad-b5d5-5d25c35636a7",
    "deepnote_cell_type": "code",
    "execution_millis": 595,
    "execution_start": 1607532062385,
    "output_cleared": false,
    "source_hash": "16370630",
    "tags": []
   },
   "outputs": [],
   "source": [
    "#pca\n",
    "data = X_2  #Need to use both X_train & X_test \n",
    "\n",
    "#Before we do PCA, we have to center the data \n",
    "#After centering, the average value for each feature will be 0, variance will be 1\n",
    "scaled = StandardScaler().fit_transform(data.T) \n",
    "\n",
    "pca = PCA() \n",
    "pca.fit(scaled) \n",
    "pca_data = pca.transform(scaled) #generating coordinates for a PCA graph based on the loading scores and the scaled data \n",
    "\n",
    "#Calculating the percentage of variation that each principal component accounts for \n",
    "per_var = np.round(pca.explained_variance_ratio_*100, decimals=1)\n",
    "labels = ['PC'+ str(x) for x in range(1, len(per_var) +1)]\n",
    "\n",
    "plt.rcParams.update({'font.size': 12})\n",
    "plt.bar(x=range(1, len(per_var) +1), height=per_var, tick_label=labels, color = 'white', ec= 'black')\n",
    "plt.ylabel('Percentage of Explained Variance')\n",
    "plt.xlabel('Principal Component')\n",
    "plt.title('Plot with data_2')\n",
    "plt.show() \n",
    "\n",
    "\n",
    "plt.savefig('pca_var_2.png', dpi=600)\n",
    "#plt.savefig('pca_var_2.pdf')\n",
    "\n",
    "print(per_var)"
   ]
  },
  {
   "cell_type": "code",
   "execution_count": null,
   "metadata": {
    "cell_id": "00063-76f9a72d-22b5-4122-bb35-8bd895e6caba",
    "deepnote_cell_type": "code",
    "execution_millis": 19352,
    "execution_start": 1607532062988,
    "output_cleared": false,
    "source_hash": "d2cd949d",
    "tags": []
   },
   "outputs": [],
   "source": [
    "#SFS\n",
    "from sklearn.neighbors import KNeighborsClassifier\n",
    "knn = KNeighborsClassifier(n_neighbors=3)\n",
    "\n",
    "#simple sequential forward selection \n",
    "sfs1 = SFS(knn, \n",
    "           k_features=3, \n",
    "           forward=True, \n",
    "           floating=False, \n",
    "           verbose=2,\n",
    "           scoring='accuracy',\n",
    "           cv=0)\n",
    "\n",
    "sfs1 = sfs1.fit(X_2, y_2)\n",
    "sfs1.subsets_"
   ]
  },
  {
   "cell_type": "markdown",
   "metadata": {
    "cell_id": "00064-a04e1300-8d33-4587-a1e8-3b68599e55bc",
    "deepnote_cell_type": "markdown",
    "output_cleared": false,
    "tags": []
   },
   "source": [
    "Here, the best feature indices are (0,1,2)"
   ]
  },
  {
   "cell_type": "code",
   "execution_count": null,
   "metadata": {
    "cell_id": "00065-9b2b5c86-aa93-449f-8508-75f5fe18c9bd",
    "deepnote_cell_type": "code",
    "execution_millis": 2,
    "execution_start": 1607532082345,
    "output_cleared": false,
    "source_hash": "c5a517a9",
    "tags": []
   },
   "outputs": [],
   "source": [
    "# Checking the feature\n",
    "idx_2 = [0,1,2]\n",
    "ary = np.array(features)\n",
    "print(ary[idx_2])\n",
    "\n",
    "# Assigning new names for training & test set with chosen features on the scaled data \n",
    "X_train_scaled = X_train_scaled[:,idx_2]\n",
    "X_test_scaled = X_test_scaled[:, idx_2]"
   ]
  },
  {
   "cell_type": "code",
   "execution_count": null,
   "metadata": {
    "cell_id": "00067-b2a92763-16cc-4ffd-be0a-43144d540c4e",
    "deepnote_cell_type": "code",
    "execution_millis": 2224,
    "execution_start": 1607532082500,
    "output_cleared": false,
    "source_hash": "12112660",
    "tags": []
   },
   "outputs": [],
   "source": [
    "# knn \n",
    "knn = KNeighborsClassifier(n_neighbors=15,\n",
    "                          algorithm='auto', \n",
    "                          p=2)\n",
    "##cv on training \n",
    "cv_acc = cross_val_score(estimator= knn,\n",
    "                         X= X_train_scaled,\n",
    "                         y= y_train_2,\n",
    "                         cv=StratifiedKFold(n_splits=10, random_state=123, shuffle=True),\n",
    "                         n_jobs=-1)\n",
    "\n",
    "print('Kfold Accuracy: %.2f%%' % (np.mean(cv_acc)*100))\n",
    "\n",
    "\n",
    "##fit on training & evaluate on test \n",
    "\n",
    "knn.fit(X_train_scaled, y_train_2)\n",
    "print(\"Test Accuracy: %f\" % knn.score(X_test_scaled, y_test_2))"
   ]
  },
  {
   "cell_type": "markdown",
   "metadata": {
    "cell_id": "00068-4ad0ff35-80b0-49de-bc49-22bf2bb8f8b7",
    "deepnote_cell_type": "markdown",
    "output_cleared": false,
    "tags": []
   },
   "source": [
    "#### Decision Tree "
   ]
  },
  {
   "cell_type": "code",
   "execution_count": null,
   "metadata": {
    "cell_id": "00069-d10a1cdc-da89-44a3-a1b1-2834b02c694d",
    "deepnote_cell_type": "code",
    "execution_millis": 37057,
    "execution_start": 1607532084730,
    "output_cleared": false,
    "source_hash": "15aea3ea",
    "tags": []
   },
   "outputs": [],
   "source": [
    "# fitting it on the best decisoin tree model\n",
    "import matplotlib.pyplot as plt\n",
    "from sklearn.tree import plot_tree\n",
    "\n",
    "tree = DecisionTreeClassifier(criterion='entropy', \n",
    "                              max_depth=15, \n",
    "                              min_samples_split=3,\n",
    "                              random_state=123)\n",
    "\n",
    "##cv on training \n",
    "cv_acc = cross_val_score(estimator=tree,\n",
    "                         X= X_train_2,\n",
    "                         y= y_train_2,\n",
    "                         cv=StratifiedKFold(n_splits=10, random_state=123, shuffle=True),\n",
    "                         n_jobs=-1)\n",
    "\n",
    "print('Kfold Accuracy: %.2f%%' % (np.mean(cv_acc)*100))\n",
    "\n",
    "tree.fit(X_train_2, y_train_2)\n",
    "print(\"Test Accuracy: %f\" % tree.score(X_test_2, y_test_2))\n",
    "\n",
    "plt.figure(figsize=(10, 7))\n",
    "\n",
    "plot_tree(tree, \n",
    "          filled=True, \n",
    "          rounded=True,\n",
    "          class_names=['0', \n",
    "                       '1'],\n",
    "          feature_names= features) \n",
    "\n",
    "plt.show()\n",
    "plt.savefig('DT_data2.pdf')"
   ]
  },
  {
   "cell_type": "markdown",
   "metadata": {
    "cell_id": "00070-255d75f0-807a-4792-abc6-978fa512cdbf",
    "deepnote_cell_type": "markdown",
    "output_cleared": false,
    "tags": []
   },
   "source": [
    "#### Random Forests "
   ]
  },
  {
   "cell_type": "code",
   "execution_count": null,
   "metadata": {
    "cell_id": "00071-6cbefc3f-af71-4e1e-86f4-bd58649818ec",
    "deepnote_cell_type": "code",
    "execution_millis": 258599,
    "execution_start": 1607532121788,
    "output_cleared": false,
    "source_hash": "d7768c7a",
    "tags": []
   },
   "outputs": [],
   "source": [
    "#fitting it on the best random forest model from another  cross validation after algorithm selection \n",
    "\n",
    "forest = RandomForestClassifier(n_estimators=1000,\n",
    "                                max_depth=None,\n",
    "                                min_samples_split=3,\n",
    "                                random_state=1)\n",
    "\n",
    "##cv on training \n",
    "cv_acc = cross_val_score(estimator= forest,\n",
    "                         X= X_train_scaled,\n",
    "                         y= y_train_2,\n",
    "                         cv=StratifiedKFold(n_splits=10, random_state=123, shuffle=True),\n",
    "                         n_jobs=-1)\n",
    "print('Kfold Accuracy: %.2f%%' % (np.mean(cv_acc)*100))\n",
    "\n",
    "forest.fit(X_train_2, y_train_2)\n",
    "print(\"Test Accuracy: % f\" % forest.score(X_test_2, y_test_2))"
   ]
  },
  {
   "cell_type": "code",
   "execution_count": null,
   "metadata": {
    "cell_id": "00072-4363fde3-42e8-4997-b25b-7061fc44bdd2",
    "deepnote_cell_type": "code",
    "execution_millis": 185213,
    "execution_start": 1607532380387,
    "output_cleared": false,
    "source_hash": "73844097",
    "tags": []
   },
   "outputs": [],
   "source": [
    "from sklearn import tree\n",
    "\n",
    "target = ['0','1']\n",
    "\n",
    "fig, axes = plt.subplots(nrows = 1,ncols = 3,figsize = (10,2), dpi=900)\n",
    "for index in range(0, 3):\n",
    "    tree.plot_tree(forest.estimators_[index],\n",
    "                   feature_names = features, \n",
    "                   class_names= target,\n",
    "                   filled = True,\n",
    "                   ax = axes[index]);\n",
    "\n",
    "    axes[index].set_title('Estimator: ' + str(index), fontsize = 11)\n",
    "fig.savefig('3trees.png')\n",
    "#fig.savefig('3trees.pdf')\n",
    "\n",
    "plt.savefig('RF_data2.pdf',dpi=600)"
   ]
  }
 ],
 "metadata": {
  "deepnoteSessionId": "dea8a0f5-35e3-4468-94eb-804ff5fc7baa",
  "deepnote_execution_queue": [],
  "deepnote_notebook_id": "048a4f32-8ea8-4961-beed-a6a93270a86d",
  "kernelspec": {
   "display_name": "Python 3",
   "language": "python",
   "name": "python3"
  },
  "language_info": {
   "codemirror_mode": {
    "name": "ipython",
    "version": 3
   },
   "file_extension": ".py",
   "mimetype": "text/x-python",
   "name": "python",
   "nbconvert_exporter": "python",
   "pygments_lexer": "ipython3",
   "version": "3.8.3"
  },
  "toc": {
   "base_numbering": 1,
   "nav_menu": {},
   "number_sections": true,
   "sideBar": true,
   "skip_h1_title": false,
   "title_cell": "Table of Contents",
   "title_sidebar": "Contents",
   "toc_cell": true,
   "toc_position": {},
   "toc_section_display": true,
   "toc_window_display": true
  }
 },
 "nbformat": 4,
 "nbformat_minor": 4
}
